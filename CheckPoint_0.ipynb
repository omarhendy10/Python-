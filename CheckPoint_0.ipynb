{
  "nbformat": 4,
  "nbformat_minor": 0,
  "metadata": {
    "colab": {
      "provenance": []
    },
    "kernelspec": {
      "name": "python3",
      "display_name": "Python 3"
    },
    "language_info": {
      "name": "python"
    }
  },
  "cells": [
    {
      "cell_type": "code",
      "execution_count": 1,
      "metadata": {
        "colab": {
          "base_uri": "https://localhost:8080/"
        },
        "id": "V8juiRXWdgfh",
        "outputId": "8db364e6-b932-41fb-90a3-b1b7500f095f"
      },
      "outputs": [
        {
          "output_type": "stream",
          "name": "stdout",
          "text": [
            "Welcome to Python world! Let's start coding\n"
          ]
        }
      ],
      "source": [
        " print(\"Welcome to Python world! Let's start coding\")"
      ]
    }
  ]
}